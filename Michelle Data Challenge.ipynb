{
 "cells": [
  {
   "cell_type": "markdown",
   "metadata": {},
   "source": [
    "## Introduction to Data Challenge\n",
    "\n",
    "For the data challenge, my goal was to do as much work as possible using SQL rather than python pandas for practice. I imported the csv files for the challenged into postgres (the hard way, not using python). I did some additional data cleaning, such as removing the times from the time_stamp (postgres was giving me issues with time stamp conversions).\n",
    "\n",
    "Most of the heavy preprocessing was done in SQL before I tried to do anything in python / pandas etc. I wanted to accomplish the following:\n",
    "\n",
    "1) Can I come up with answers using data manipulations mostly in SQL? \n",
    "\n",
    "2) Do actionable insights really necessitate the use of ML, depending on the question? For example, if we want to know whether or not to raise prices, will a simple figure suffice for decision making, or do we actually need to implement an actual model?"
   ]
  },
  {
   "cell_type": "code",
   "execution_count": 1,
   "metadata": {},
   "outputs": [],
   "source": [
    "from sqlalchemy import create_engine\n",
    "from sqlalchemy_utils import database_exists, create_database\n",
    "from statsmodels.formula.api import ols\n",
    "from statsmodels.stats.anova import anova_lm\n",
    "import statsmodels.api as sm\n",
    "import psycopg2\n",
    "import pandas as pd\n",
    "import sqlalchemy\n",
    "import numpy as np\n",
    "import matplotlib.pyplot as plt"
   ]
  },
  {
   "cell_type": "markdown",
   "metadata": {},
   "source": [
    "**For the data challenge, I decided to try to do all of the data clean up and calculations in SQL.**"
   ]
  },
  {
   "cell_type": "code",
   "execution_count": 2,
   "metadata": {
    "collapsed": false
   },
   "outputs": [],
   "source": [
    "con = psycopg2.connect(database = 'data_challenge', user = 'michelle', password = 'gundam91', host = '/var/run/postgresql')"
   ]
  },
  {
   "cell_type": "code",
   "execution_count": 3,
   "metadata": {
    "collapsed": false
   },
   "outputs": [
    {
     "data": {
      "text/html": [
       "<div>\n",
       "<table border=\"1\" class=\"dataframe\">\n",
       "  <thead>\n",
       "    <tr style=\"text-align: right;\">\n",
       "      <th></th>\n",
       "      <th>id</th>\n",
       "      <th>time_stamp</th>\n",
       "      <th>source</th>\n",
       "      <th>device</th>\n",
       "      <th>os</th>\n",
       "      <th>test</th>\n",
       "      <th>price</th>\n",
       "      <th>converted</th>\n",
       "    </tr>\n",
       "  </thead>\n",
       "  <tbody>\n",
       "  </tbody>\n",
       "</table>\n",
       "</div>"
      ],
      "text/plain": [
       "Empty DataFrame\n",
       "Columns: [id, time_stamp, source, device, os, test, price, converted]\n",
       "Index: []"
      ]
     },
     "execution_count": 3,
     "metadata": {},
     "output_type": "execute_result"
    }
   ],
   "source": [
    "sql_query = \"\"\"\n",
    "SELECT *\n",
    "FROM test_results\n",
    "WHERE false;\n",
    "\"\"\"\n",
    "pd.read_sql_query(sql_query, con)"
   ]
  },
  {
   "cell_type": "markdown",
   "metadata": {},
   "source": [
    "**Let just peek at how many rows of data there are in the dataset.** Note that the proportions for the control and test data match the description, which is a good sanity check."
   ]
  },
  {
   "cell_type": "code",
   "execution_count": 4,
   "metadata": {
    "collapsed": false
   },
   "outputs": [
    {
     "data": {
      "text/html": [
       "<div>\n",
       "<table border=\"1\" class=\"dataframe\">\n",
       "  <thead>\n",
       "    <tr style=\"text-align: right;\">\n",
       "      <th></th>\n",
       "      <th>total_num_samples</th>\n",
       "      <th>total</th>\n",
       "    </tr>\n",
       "  </thead>\n",
       "  <tbody>\n",
       "    <tr>\n",
       "      <th>0</th>\n",
       "      <td>202727</td>\n",
       "      <td>63.0</td>\n",
       "    </tr>\n",
       "    <tr>\n",
       "      <th>1</th>\n",
       "      <td>114073</td>\n",
       "      <td>36.0</td>\n",
       "    </tr>\n",
       "  </tbody>\n",
       "</table>\n",
       "</div>"
      ],
      "text/plain": [
       "   total_num_samples  total\n",
       "0             202727   63.0\n",
       "1             114073   36.0"
      ]
     },
     "execution_count": 4,
     "metadata": {},
     "output_type": "execute_result"
    }
   ],
   "source": [
    "sql_query = \"\"\"\n",
    "SELECT count(test) as Total_Num_Samples, round((count(test) * 100 /(SELECT COUNT(*) from test_results)),3) AS total\n",
    "FROM test_results\n",
    "GROUP BY test;\n",
    "\"\"\"\n",
    "pd.read_sql_query(sql_query, con)"
   ]
  },
  {
   "cell_type": "code",
   "execution_count": 5,
   "metadata": {
    "collapsed": false
   },
   "outputs": [
    {
     "data": {
      "text/html": [
       "<div>\n",
       "<table border=\"1\" class=\"dataframe\">\n",
       "  <thead>\n",
       "    <tr style=\"text-align: right;\">\n",
       "      <th></th>\n",
       "      <th>count</th>\n",
       "      <th>conversion</th>\n",
       "      <th>test_condition</th>\n",
       "    </tr>\n",
       "  </thead>\n",
       "  <tbody>\n",
       "    <tr>\n",
       "      <th>0</th>\n",
       "      <td>198692</td>\n",
       "      <td>No</td>\n",
       "      <td>Control</td>\n",
       "    </tr>\n",
       "    <tr>\n",
       "      <th>1</th>\n",
       "      <td>4035</td>\n",
       "      <td>Yes</td>\n",
       "      <td>Control</td>\n",
       "    </tr>\n",
       "    <tr>\n",
       "      <th>2</th>\n",
       "      <td>112300</td>\n",
       "      <td>No</td>\n",
       "      <td>Test</td>\n",
       "    </tr>\n",
       "    <tr>\n",
       "      <th>3</th>\n",
       "      <td>1773</td>\n",
       "      <td>Yes</td>\n",
       "      <td>Test</td>\n",
       "    </tr>\n",
       "  </tbody>\n",
       "</table>\n",
       "</div>"
      ],
      "text/plain": [
       "    count conversion test_condition\n",
       "0  198692         No        Control\n",
       "1    4035        Yes        Control\n",
       "2  112300         No           Test\n",
       "3    1773        Yes           Test"
      ]
     },
     "execution_count": 5,
     "metadata": {},
     "output_type": "execute_result"
    }
   ],
   "source": [
    "sql_query = \"\"\"\n",
    "SELECT count(converted),\n",
    "    CASE WHEN converted = 0 THEN 'No'\n",
    "    ELSE 'Yes' END AS Conversion,\n",
    "    CASE WHEN test = 0 THEN 'Control'\n",
    "    ELSE 'Test' END AS Test_Condition\n",
    "FROM test_results\n",
    "GROUP BY test, converted;\n",
    "\"\"\"\n",
    "counts = pd.read_sql_query(sql_query, con)\n",
    "counts"
   ]
  },
  {
   "cell_type": "code",
   "execution_count": 6,
   "metadata": {
    "collapsed": false
   },
   "outputs": [],
   "source": [
    "c_tot = counts[counts['test_condition'] == 'Control'].sum()['count']\n",
    "t_tot = counts[counts['test_condition'] == 'Test'].sum()['count']\n",
    "c_tot, t_tot = float(c_tot), float(t_tot)"
   ]
  },
  {
   "cell_type": "code",
   "execution_count": 7,
   "metadata": {
    "collapsed": false
   },
   "outputs": [],
   "source": [
    "prop = np.array([(198692 / c_tot), (4035 / c_tot), (112300 / t_tot), (1773/t_tot)])"
   ]
  },
  {
   "cell_type": "code",
   "execution_count": 8,
   "metadata": {
    "collapsed": false
   },
   "outputs": [
    {
     "data": {
      "text/html": [
       "<div>\n",
       "<table border=\"1\" class=\"dataframe\">\n",
       "  <thead>\n",
       "    <tr style=\"text-align: right;\">\n",
       "      <th></th>\n",
       "      <th>count</th>\n",
       "      <th>conversion</th>\n",
       "      <th>test_condition</th>\n",
       "      <th>proportions</th>\n",
       "    </tr>\n",
       "  </thead>\n",
       "  <tbody>\n",
       "    <tr>\n",
       "      <th>0</th>\n",
       "      <td>198692</td>\n",
       "      <td>No</td>\n",
       "      <td>Control</td>\n",
       "      <td>0.980096</td>\n",
       "    </tr>\n",
       "    <tr>\n",
       "      <th>1</th>\n",
       "      <td>4035</td>\n",
       "      <td>Yes</td>\n",
       "      <td>Control</td>\n",
       "      <td>0.019904</td>\n",
       "    </tr>\n",
       "    <tr>\n",
       "      <th>2</th>\n",
       "      <td>112300</td>\n",
       "      <td>No</td>\n",
       "      <td>Test</td>\n",
       "      <td>0.984457</td>\n",
       "    </tr>\n",
       "    <tr>\n",
       "      <th>3</th>\n",
       "      <td>1773</td>\n",
       "      <td>Yes</td>\n",
       "      <td>Test</td>\n",
       "      <td>0.015543</td>\n",
       "    </tr>\n",
       "  </tbody>\n",
       "</table>\n",
       "</div>"
      ],
      "text/plain": [
       "    count conversion test_condition  proportions\n",
       "0  198692         No        Control     0.980096\n",
       "1    4035        Yes        Control     0.019904\n",
       "2  112300         No           Test     0.984457\n",
       "3    1773        Yes           Test     0.015543"
      ]
     },
     "execution_count": 8,
     "metadata": {},
     "output_type": "execute_result"
    }
   ],
   "source": [
    "counts['proportions'] = prop\n",
    "counts"
   ]
  },
  {
   "cell_type": "markdown",
   "metadata": {},
   "source": [
    "**Trying to do this in SQL. Sorta close. Oh well. Moving on.**"
   ]
  },
  {
   "cell_type": "code",
   "execution_count": 9,
   "metadata": {},
   "outputs": [
    {
     "data": {
      "text/html": [
       "<div>\n",
       "<table border=\"1\" class=\"dataframe\">\n",
       "  <thead>\n",
       "    <tr style=\"text-align: right;\">\n",
       "      <th></th>\n",
       "      <th>count</th>\n",
       "      <th>conversion</th>\n",
       "      <th>test_condition</th>\n",
       "      <th>prop</th>\n",
       "    </tr>\n",
       "  </thead>\n",
       "  <tbody>\n",
       "    <tr>\n",
       "      <th>0</th>\n",
       "      <td>198692</td>\n",
       "      <td>No</td>\n",
       "      <td>Control</td>\n",
       "      <td>98.0</td>\n",
       "    </tr>\n",
       "    <tr>\n",
       "      <th>1</th>\n",
       "      <td>4035</td>\n",
       "      <td>Yes</td>\n",
       "      <td>Control</td>\n",
       "      <td>1.0</td>\n",
       "    </tr>\n",
       "    <tr>\n",
       "      <th>2</th>\n",
       "      <td>112300</td>\n",
       "      <td>No</td>\n",
       "      <td>Test</td>\n",
       "      <td>98.0</td>\n",
       "    </tr>\n",
       "    <tr>\n",
       "      <th>3</th>\n",
       "      <td>1773</td>\n",
       "      <td>Yes</td>\n",
       "      <td>Test</td>\n",
       "      <td>1.0</td>\n",
       "    </tr>\n",
       "  </tbody>\n",
       "</table>\n",
       "</div>"
      ],
      "text/plain": [
       "    count conversion test_condition  prop\n",
       "0  198692         No        Control  98.0\n",
       "1    4035        Yes        Control   1.0\n",
       "2  112300         No           Test  98.0\n",
       "3    1773        Yes           Test   1.0"
      ]
     },
     "execution_count": 9,
     "metadata": {},
     "output_type": "execute_result"
    }
   ],
   "source": [
    "sql_query = \"\"\"\n",
    "SELECT count(converted),\n",
    "    CASE WHEN converted = 0 THEN 'No'\n",
    "    ELSE 'Yes' END AS Conversion,\n",
    "    CASE WHEN test = 0 THEN 'Control'\n",
    "    ELSE 'Test' END AS Test_Condition,\n",
    "    \n",
    "    CASE WHEN converted = 0 AND test = 0 THEN round((count(converted) * 100 /(SELECT COUNT(*) FROM test_results WHERE test = 0)),3)::float\n",
    "    WHEN converted = 1 AND test = 0 THEN round((count(converted) * 100 /(SELECT COUNT(*) FROM test_results WHERE test = 0)),3)::float\n",
    "    WHEN converted = 0 AND test = 1 THEN round((count(converted) * 100 /(SELECT COUNT(*) FROM test_results WHERE test = 1)),3)::float\n",
    "    ELSE round((count(converted) * 100 /(SELECT COUNT(*) FROM test_results WHERE test = 1)),3) END AS prop\n",
    "    \n",
    "    \n",
    "FROM test_results\n",
    "GROUP BY test, converted;\n",
    "\"\"\"\n",
    "pd.read_sql_query(sql_query, con)"
   ]
  },
  {
   "cell_type": "markdown",
   "metadata": {},
   "source": [
    "**Let's create a plot to visualize the proportions.**"
   ]
  },
  {
   "cell_type": "code",
   "execution_count": 10,
   "metadata": {
    "collapsed": false
   },
   "outputs": [
    {
     "data": {
      "image/png": "[encoded data removed]",
      "text/plain": [
       "<matplotlib.figure.Figure at 0x7f14aa743290>"
      ]
     },
     "metadata": {},
     "output_type": "display_data"
    }
   ],
   "source": [
    "y_pos = np.arange(len(counts['test_condition']))\n",
    "\n",
    "plt.bar(y_pos, counts['proportions'], align='center', alpha=0.5, color =['red', 'red', 'blue', 'blue'])\n",
    "plt.xticks(y_pos, counts['conversion'])\n",
    "plt.ylabel('Proportion')\n",
    "plt.xlabel('Test Condition By Conversion')\n",
    "\n",
    " \n",
    "plt.show()"
   ]
  },
  {
   "cell_type": "markdown",
   "metadata": {},
   "source": [
    "**So if I did this right, it seems that most people aren't really converting over regardless of test condition.** Additionally, I don't think you need statistics to really show that this is true.\n",
    "\n",
    "Following this exploratory logic, let's continue to poke around the data to examine if there are any trends: and from there we might think about using some sort of ML for actionable insights, if necessary.\n",
    "\n",
    "Again, let's run some SQL queries to grab some data and look at it (instead of using pandas to do all the heavy lifting). \n",
    "\n",
    "Note that there are many other variables to group by, and it might be interesting to see if user behavior depends on where they were referred from, or what platform they might be using."
   ]
  },
  {
   "cell_type": "code",
   "execution_count": 11,
   "metadata": {},
   "outputs": [
    {
     "data": {
      "text/html": [
       "<div>\n",
       "<table border=\"1\" class=\"dataframe\">\n",
       "  <thead>\n",
       "    <tr style=\"text-align: right;\">\n",
       "      <th></th>\n",
       "      <th>source</th>\n",
       "      <th>counts</th>\n",
       "    </tr>\n",
       "  </thead>\n",
       "  <tbody>\n",
       "    <tr>\n",
       "      <th>0</th>\n",
       "      <td>direct_traffic</td>\n",
       "      <td>60357</td>\n",
       "    </tr>\n",
       "    <tr>\n",
       "      <th>1</th>\n",
       "      <td>ads-google</td>\n",
       "      <td>59379</td>\n",
       "    </tr>\n",
       "    <tr>\n",
       "      <th>2</th>\n",
       "      <td>ads_facebook</td>\n",
       "      <td>53396</td>\n",
       "    </tr>\n",
       "    <tr>\n",
       "      <th>3</th>\n",
       "      <td>ads_other</td>\n",
       "      <td>29876</td>\n",
       "    </tr>\n",
       "    <tr>\n",
       "      <th>4</th>\n",
       "      <td>seo-google</td>\n",
       "      <td>23175</td>\n",
       "    </tr>\n",
       "    <tr>\n",
       "      <th>5</th>\n",
       "      <td>ads-bing</td>\n",
       "      <td>22873</td>\n",
       "    </tr>\n",
       "    <tr>\n",
       "      <th>6</th>\n",
       "      <td>seo_facebook</td>\n",
       "      <td>21205</td>\n",
       "    </tr>\n",
       "    <tr>\n",
       "      <th>7</th>\n",
       "      <td>friend_referral</td>\n",
       "      <td>20695</td>\n",
       "    </tr>\n",
       "    <tr>\n",
       "      <th>8</th>\n",
       "      <td>seo-other</td>\n",
       "      <td>9260</td>\n",
       "    </tr>\n",
       "    <tr>\n",
       "      <th>9</th>\n",
       "      <td>ads-yahoo</td>\n",
       "      <td>7583</td>\n",
       "    </tr>\n",
       "    <tr>\n",
       "      <th>10</th>\n",
       "      <td>seo-yahoo</td>\n",
       "      <td>6848</td>\n",
       "    </tr>\n",
       "    <tr>\n",
       "      <th>11</th>\n",
       "      <td>seo-bing</td>\n",
       "      <td>2153</td>\n",
       "    </tr>\n",
       "  </tbody>\n",
       "</table>\n",
       "</div>"
      ],
      "text/plain": [
       "             source  counts\n",
       "0    direct_traffic   60357\n",
       "1        ads-google   59379\n",
       "2      ads_facebook   53396\n",
       "3         ads_other   29876\n",
       "4        seo-google   23175\n",
       "5          ads-bing   22873\n",
       "6      seo_facebook   21205\n",
       "7   friend_referral   20695\n",
       "8         seo-other    9260\n",
       "9         ads-yahoo    7583\n",
       "10        seo-yahoo    6848\n",
       "11         seo-bing    2153"
      ]
     },
     "execution_count": 11,
     "metadata": {},
     "output_type": "execute_result"
    }
   ],
   "source": [
    "sql_query = \"\"\"\n",
    "SELECT source, COUNT(*) AS counts\n",
    "FROM test_results\n",
    "GROUP BY source\n",
    "ORDER BY COUNT(*) DESC;\n",
    "\"\"\"\n",
    "pd.read_sql_query(sql_query, con)"
   ]
  },
  {
   "cell_type": "code",
   "execution_count": 12,
   "metadata": {},
   "outputs": [
    {
     "data": {
      "text/html": [
       "<div>\n",
       "<table border=\"1\" class=\"dataframe\">\n",
       "  <thead>\n",
       "    <tr style=\"text-align: right;\">\n",
       "      <th></th>\n",
       "      <th>device</th>\n",
       "      <th>count</th>\n",
       "    </tr>\n",
       "  </thead>\n",
       "  <tbody>\n",
       "    <tr>\n",
       "      <th>0</th>\n",
       "      <td>mobile</td>\n",
       "      <td>186471</td>\n",
       "    </tr>\n",
       "    <tr>\n",
       "      <th>1</th>\n",
       "      <td>web</td>\n",
       "      <td>130329</td>\n",
       "    </tr>\n",
       "  </tbody>\n",
       "</table>\n",
       "</div>"
      ],
      "text/plain": [
       "   device   count\n",
       "0  mobile  186471\n",
       "1     web  130329"
      ]
     },
     "execution_count": 12,
     "metadata": {},
     "output_type": "execute_result"
    }
   ],
   "source": [
    "sql_query = \"\"\"\n",
    "SELECT device, COUNT(*)\n",
    "FROM test_results\n",
    "GROUP BY device\n",
    "ORDER BY COUNT(*) DESC;\n",
    "\"\"\"\n",
    "pd.read_sql_query(sql_query, con)"
   ]
  },
  {
   "cell_type": "code",
   "execution_count": 13,
   "metadata": {},
   "outputs": [
    {
     "data": {
      "text/html": [
       "<div>\n",
       "<table border=\"1\" class=\"dataframe\">\n",
       "  <thead>\n",
       "    <tr style=\"text-align: right;\">\n",
       "      <th></th>\n",
       "      <th>device</th>\n",
       "      <th>source</th>\n",
       "      <th>counts</th>\n",
       "    </tr>\n",
       "  </thead>\n",
       "  <tbody>\n",
       "    <tr>\n",
       "      <th>0</th>\n",
       "      <td>mobile</td>\n",
       "      <td>direct_traffic</td>\n",
       "      <td>35784</td>\n",
       "    </tr>\n",
       "    <tr>\n",
       "      <th>1</th>\n",
       "      <td>mobile</td>\n",
       "      <td>ads-google</td>\n",
       "      <td>34895</td>\n",
       "    </tr>\n",
       "    <tr>\n",
       "      <th>2</th>\n",
       "      <td>mobile</td>\n",
       "      <td>ads_facebook</td>\n",
       "      <td>31679</td>\n",
       "    </tr>\n",
       "    <tr>\n",
       "      <th>3</th>\n",
       "      <td>web</td>\n",
       "      <td>direct_traffic</td>\n",
       "      <td>24573</td>\n",
       "    </tr>\n",
       "    <tr>\n",
       "      <th>4</th>\n",
       "      <td>web</td>\n",
       "      <td>ads-google</td>\n",
       "      <td>24484</td>\n",
       "    </tr>\n",
       "    <tr>\n",
       "      <th>5</th>\n",
       "      <td>web</td>\n",
       "      <td>ads_facebook</td>\n",
       "      <td>21717</td>\n",
       "    </tr>\n",
       "    <tr>\n",
       "      <th>6</th>\n",
       "      <td>mobile</td>\n",
       "      <td>ads_other</td>\n",
       "      <td>17356</td>\n",
       "    </tr>\n",
       "    <tr>\n",
       "      <th>7</th>\n",
       "      <td>mobile</td>\n",
       "      <td>seo-google</td>\n",
       "      <td>13718</td>\n",
       "    </tr>\n",
       "    <tr>\n",
       "      <th>8</th>\n",
       "      <td>mobile</td>\n",
       "      <td>ads-bing</td>\n",
       "      <td>13535</td>\n",
       "    </tr>\n",
       "    <tr>\n",
       "      <th>9</th>\n",
       "      <td>web</td>\n",
       "      <td>ads_other</td>\n",
       "      <td>12520</td>\n",
       "    </tr>\n",
       "    <tr>\n",
       "      <th>10</th>\n",
       "      <td>mobile</td>\n",
       "      <td>seo_facebook</td>\n",
       "      <td>12368</td>\n",
       "    </tr>\n",
       "    <tr>\n",
       "      <th>11</th>\n",
       "      <td>mobile</td>\n",
       "      <td>friend_referral</td>\n",
       "      <td>12044</td>\n",
       "    </tr>\n",
       "    <tr>\n",
       "      <th>12</th>\n",
       "      <td>web</td>\n",
       "      <td>seo-google</td>\n",
       "      <td>9457</td>\n",
       "    </tr>\n",
       "    <tr>\n",
       "      <th>13</th>\n",
       "      <td>web</td>\n",
       "      <td>ads-bing</td>\n",
       "      <td>9338</td>\n",
       "    </tr>\n",
       "    <tr>\n",
       "      <th>14</th>\n",
       "      <td>web</td>\n",
       "      <td>seo_facebook</td>\n",
       "      <td>8837</td>\n",
       "    </tr>\n",
       "    <tr>\n",
       "      <th>15</th>\n",
       "      <td>web</td>\n",
       "      <td>friend_referral</td>\n",
       "      <td>8651</td>\n",
       "    </tr>\n",
       "    <tr>\n",
       "      <th>16</th>\n",
       "      <td>mobile</td>\n",
       "      <td>seo-other</td>\n",
       "      <td>5300</td>\n",
       "    </tr>\n",
       "    <tr>\n",
       "      <th>17</th>\n",
       "      <td>mobile</td>\n",
       "      <td>ads-yahoo</td>\n",
       "      <td>4444</td>\n",
       "    </tr>\n",
       "    <tr>\n",
       "      <th>18</th>\n",
       "      <td>mobile</td>\n",
       "      <td>seo-yahoo</td>\n",
       "      <td>4042</td>\n",
       "    </tr>\n",
       "    <tr>\n",
       "      <th>19</th>\n",
       "      <td>web</td>\n",
       "      <td>seo-other</td>\n",
       "      <td>3960</td>\n",
       "    </tr>\n",
       "    <tr>\n",
       "      <th>20</th>\n",
       "      <td>web</td>\n",
       "      <td>ads-yahoo</td>\n",
       "      <td>3139</td>\n",
       "    </tr>\n",
       "    <tr>\n",
       "      <th>21</th>\n",
       "      <td>web</td>\n",
       "      <td>seo-yahoo</td>\n",
       "      <td>2806</td>\n",
       "    </tr>\n",
       "    <tr>\n",
       "      <th>22</th>\n",
       "      <td>mobile</td>\n",
       "      <td>seo-bing</td>\n",
       "      <td>1306</td>\n",
       "    </tr>\n",
       "    <tr>\n",
       "      <th>23</th>\n",
       "      <td>web</td>\n",
       "      <td>seo-bing</td>\n",
       "      <td>847</td>\n",
       "    </tr>\n",
       "  </tbody>\n",
       "</table>\n",
       "</div>"
      ],
      "text/plain": [
       "    device           source  counts\n",
       "0   mobile   direct_traffic   35784\n",
       "1   mobile       ads-google   34895\n",
       "2   mobile     ads_facebook   31679\n",
       "3      web   direct_traffic   24573\n",
       "4      web       ads-google   24484\n",
       "5      web     ads_facebook   21717\n",
       "6   mobile        ads_other   17356\n",
       "7   mobile       seo-google   13718\n",
       "8   mobile         ads-bing   13535\n",
       "9      web        ads_other   12520\n",
       "10  mobile     seo_facebook   12368\n",
       "11  mobile  friend_referral   12044\n",
       "12     web       seo-google    9457\n",
       "13     web         ads-bing    9338\n",
       "14     web     seo_facebook    8837\n",
       "15     web  friend_referral    8651\n",
       "16  mobile        seo-other    5300\n",
       "17  mobile        ads-yahoo    4444\n",
       "18  mobile        seo-yahoo    4042\n",
       "19     web        seo-other    3960\n",
       "20     web        ads-yahoo    3139\n",
       "21     web        seo-yahoo    2806\n",
       "22  mobile         seo-bing    1306\n",
       "23     web         seo-bing     847"
      ]
     },
     "execution_count": 13,
     "metadata": {},
     "output_type": "execute_result"
    }
   ],
   "source": [
    "sql_query = \"\"\"\n",
    "SELECT device, source, COUNT(*) AS counts\n",
    "FROM test_results\n",
    "GROUP BY device, source\n",
    "ORDER BY COUNT(*) DESC;\n",
    "\"\"\"\n",
    "pd.read_sql_query(sql_query, con)"
   ]
  },
  {
   "cell_type": "code",
   "execution_count": 14,
   "metadata": {},
   "outputs": [
    {
     "data": {
      "text/html": [
       "<div>\n",
       "<table border=\"1\" class=\"dataframe\">\n",
       "  <thead>\n",
       "    <tr style=\"text-align: right;\">\n",
       "      <th></th>\n",
       "      <th>device</th>\n",
       "      <th>counts</th>\n",
       "      <th>conversion</th>\n",
       "      <th>test_condition</th>\n",
       "    </tr>\n",
       "  </thead>\n",
       "  <tbody>\n",
       "    <tr>\n",
       "      <th>0</th>\n",
       "      <td>mobile</td>\n",
       "      <td>2395</td>\n",
       "      <td>Yes</td>\n",
       "      <td>Control</td>\n",
       "    </tr>\n",
       "    <tr>\n",
       "      <th>1</th>\n",
       "      <td>web</td>\n",
       "      <td>1640</td>\n",
       "      <td>Yes</td>\n",
       "      <td>Control</td>\n",
       "    </tr>\n",
       "    <tr>\n",
       "      <th>2</th>\n",
       "      <td>mobile</td>\n",
       "      <td>1065</td>\n",
       "      <td>Yes</td>\n",
       "      <td>Test</td>\n",
       "    </tr>\n",
       "    <tr>\n",
       "      <th>3</th>\n",
       "      <td>web</td>\n",
       "      <td>708</td>\n",
       "      <td>Yes</td>\n",
       "      <td>Test</td>\n",
       "    </tr>\n",
       "  </tbody>\n",
       "</table>\n",
       "</div>"
      ],
      "text/plain": [
       "   device  counts conversion test_condition\n",
       "0  mobile    2395        Yes        Control\n",
       "1     web    1640        Yes        Control\n",
       "2  mobile    1065        Yes           Test\n",
       "3     web     708        Yes           Test"
      ]
     },
     "execution_count": 14,
     "metadata": {},
     "output_type": "execute_result"
    }
   ],
   "source": [
    "sql_query = \"\"\"\n",
    "SELECT device, COUNT(*) AS counts,\n",
    "    CASE WHEN converted = 0 THEN 'No'\n",
    "    ELSE 'Yes' END AS Conversion,\n",
    "    CASE WHEN test = 0 THEN 'Control'\n",
    "    ELSE 'Test' END AS Test_Condition\n",
    "FROM test_results\n",
    "WHERE converted = 1\n",
    "GROUP BY test, converted, device\n",
    "ORDER BY COUNT(*) DESC;\n",
    "\"\"\"\n",
    "pd.read_sql_query(sql_query, con)"
   ]
  },
  {
   "cell_type": "markdown",
   "metadata": {},
   "source": [
    "**So this tidbit is interesting.** Mobile users are more likely to convert over. In general. Maybe prioritizing mobile users in general, is a more prudent way to 1) Conduct an A/B focusing more on mobile user behavior, 2) Or simply raise prices in general, since mobile users are more likely to convert anyways?"
   ]
  },
  {
   "cell_type": "code",
   "execution_count": 15,
   "metadata": {},
   "outputs": [
    {
     "name": "stdout",
     "output_type": "stream",
     "text": [
      "0.59355638166\n",
      "0.40644361834\n",
      "0.600676818951\n",
      "0.399323181049\n"
     ]
    }
   ],
   "source": [
    "print 2395 / 4035.0\n",
    "print 1640 / 4035.0\n",
    "print 1065 / 1773.0\n",
    "print 708 / 1773.0"
   ]
  },
  {
   "cell_type": "code",
   "execution_count": 16,
   "metadata": {},
   "outputs": [
    {
     "data": {
      "text/html": [
       "<div>\n",
       "<table border=\"1\" class=\"dataframe\">\n",
       "  <thead>\n",
       "    <tr style=\"text-align: right;\">\n",
       "      <th></th>\n",
       "      <th>device</th>\n",
       "      <th>counts</th>\n",
       "      <th>conversion</th>\n",
       "      <th>test_condition</th>\n",
       "    </tr>\n",
       "  </thead>\n",
       "  <tbody>\n",
       "    <tr>\n",
       "      <th>0</th>\n",
       "      <td>mobile</td>\n",
       "      <td>118086</td>\n",
       "      <td>No</td>\n",
       "      <td>Control</td>\n",
       "    </tr>\n",
       "    <tr>\n",
       "      <th>1</th>\n",
       "      <td>web</td>\n",
       "      <td>80606</td>\n",
       "      <td>No</td>\n",
       "      <td>Control</td>\n",
       "    </tr>\n",
       "    <tr>\n",
       "      <th>2</th>\n",
       "      <td>mobile</td>\n",
       "      <td>64925</td>\n",
       "      <td>No</td>\n",
       "      <td>Test</td>\n",
       "    </tr>\n",
       "    <tr>\n",
       "      <th>3</th>\n",
       "      <td>web</td>\n",
       "      <td>47375</td>\n",
       "      <td>No</td>\n",
       "      <td>Test</td>\n",
       "    </tr>\n",
       "  </tbody>\n",
       "</table>\n",
       "</div>"
      ],
      "text/plain": [
       "   device  counts conversion test_condition\n",
       "0  mobile  118086         No        Control\n",
       "1     web   80606         No        Control\n",
       "2  mobile   64925         No           Test\n",
       "3     web   47375         No           Test"
      ]
     },
     "execution_count": 16,
     "metadata": {},
     "output_type": "execute_result"
    }
   ],
   "source": [
    "sql_query = \"\"\"\n",
    "SELECT device, COUNT(*) AS counts,\n",
    "    CASE WHEN converted = 0 THEN 'No'\n",
    "    ELSE 'Yes' END AS Conversion,\n",
    "    CASE WHEN test = 0 THEN 'Control'\n",
    "    ELSE 'Test' END AS Test_Condition\n",
    "FROM test_results\n",
    "WHERE converted = 0\n",
    "GROUP BY test, converted, device\n",
    "ORDER BY COUNT(*) DESC;\n",
    "\"\"\"\n",
    "pd.read_sql_query(sql_query, con)"
   ]
  },
  {
   "cell_type": "code",
   "execution_count": 17,
   "metadata": {},
   "outputs": [
    {
     "name": "stdout",
     "output_type": "stream",
     "text": [
      "0.594316832082\n",
      "0.405683167918\n",
      "0.578138913624\n",
      "0.421861086376\n"
     ]
    }
   ],
   "source": [
    "print 118086 / 198692.0\n",
    "print 80606 / 198692.0\n",
    "print 64925 / 112300.0\n",
    "print 47375 / 112300.0"
   ]
  },
  {
   "cell_type": "markdown",
   "metadata": {},
   "source": [
    "In general, there seems to be more mobile users. At minimum, I still think that *at minimum*, testing on mobile users may be more interesting. "
   ]
  },
  {
   "cell_type": "markdown",
   "metadata": {},
   "source": [
    "The company owner was also wondering if the dates of the tests mattered, so let's take a look at that. My approach here is to bin each set of data into months."
   ]
  },
  {
   "cell_type": "markdown",
   "metadata": {},
   "source": [
    "## Data for March."
   ]
  },
  {
   "cell_type": "code",
   "execution_count": 18,
   "metadata": {},
   "outputs": [
    {
     "data": {
      "text/html": [
       "<div>\n",
       "<table border=\"1\" class=\"dataframe\">\n",
       "  <thead>\n",
       "    <tr style=\"text-align: right;\">\n",
       "      <th></th>\n",
       "      <th>count</th>\n",
       "      <th>conversion</th>\n",
       "      <th>test_condition</th>\n",
       "      <th>revenue</th>\n",
       "    </tr>\n",
       "  </thead>\n",
       "  <tbody>\n",
       "    <tr>\n",
       "      <th>0</th>\n",
       "      <td>63990</td>\n",
       "      <td>No</td>\n",
       "      <td>Control</td>\n",
       "      <td>2495610</td>\n",
       "    </tr>\n",
       "    <tr>\n",
       "      <th>1</th>\n",
       "      <td>1283</td>\n",
       "      <td>Yes</td>\n",
       "      <td>Control</td>\n",
       "      <td>50037</td>\n",
       "    </tr>\n",
       "    <tr>\n",
       "      <th>2</th>\n",
       "      <td>36310</td>\n",
       "      <td>No</td>\n",
       "      <td>Test</td>\n",
       "      <td>2142290</td>\n",
       "    </tr>\n",
       "    <tr>\n",
       "      <th>3</th>\n",
       "      <td>595</td>\n",
       "      <td>Yes</td>\n",
       "      <td>Test</td>\n",
       "      <td>35105</td>\n",
       "    </tr>\n",
       "  </tbody>\n",
       "</table>\n",
       "</div>"
      ],
      "text/plain": [
       "   count conversion test_condition  revenue\n",
       "0  63990         No        Control  2495610\n",
       "1   1283        Yes        Control    50037\n",
       "2  36310         No           Test  2142290\n",
       "3    595        Yes           Test    35105"
      ]
     },
     "execution_count": 18,
     "metadata": {},
     "output_type": "execute_result"
    }
   ],
   "source": [
    "sql_query = \"\"\"\n",
    "SELECT count(converted),\n",
    "    CASE WHEN converted = 0 THEN 'No'\n",
    "    ELSE 'Yes' END AS Conversion,\n",
    "    \n",
    "    CASE WHEN test = 0 THEN 'Control'\n",
    "    ELSE 'Test' END AS Test_Condition,\n",
    "    \n",
    "    CASE WHEN test = 0 THEN (count(converted) * 39)\n",
    "    ELSE (count(converted)*59) END AS Revenue\n",
    "    \n",
    "FROM test_results\n",
    "WHERE time_stamp >= '2015-03-02' AND time_stamp <= '2015-04-01'\n",
    "GROUP BY test, converted;\n",
    "\"\"\"\n",
    "pd.read_sql_query(sql_query, con).head(10)"
   ]
  },
  {
   "cell_type": "markdown",
   "metadata": {},
   "source": [
    "## Data for April."
   ]
  },
  {
   "cell_type": "code",
   "execution_count": 19,
   "metadata": {},
   "outputs": [
    {
     "data": {
      "text/html": [
       "<div>\n",
       "<table border=\"1\" class=\"dataframe\">\n",
       "  <thead>\n",
       "    <tr style=\"text-align: right;\">\n",
       "      <th></th>\n",
       "      <th>count</th>\n",
       "      <th>conversion</th>\n",
       "      <th>test_condition</th>\n",
       "    </tr>\n",
       "  </thead>\n",
       "  <tbody>\n",
       "    <tr>\n",
       "      <th>0</th>\n",
       "      <td>63990</td>\n",
       "      <td>No</td>\n",
       "      <td>Control</td>\n",
       "    </tr>\n",
       "    <tr>\n",
       "      <th>1</th>\n",
       "      <td>1283</td>\n",
       "      <td>Yes</td>\n",
       "      <td>Control</td>\n",
       "    </tr>\n",
       "    <tr>\n",
       "      <th>2</th>\n",
       "      <td>36310</td>\n",
       "      <td>No</td>\n",
       "      <td>Test</td>\n",
       "    </tr>\n",
       "    <tr>\n",
       "      <th>3</th>\n",
       "      <td>595</td>\n",
       "      <td>Yes</td>\n",
       "      <td>Test</td>\n",
       "    </tr>\n",
       "  </tbody>\n",
       "</table>\n",
       "</div>"
      ],
      "text/plain": [
       "   count conversion test_condition\n",
       "0  63990         No        Control\n",
       "1   1283        Yes        Control\n",
       "2  36310         No           Test\n",
       "3    595        Yes           Test"
      ]
     },
     "execution_count": 19,
     "metadata": {},
     "output_type": "execute_result"
    }
   ],
   "source": [
    "sql_query = \"\"\"\n",
    "SELECT count(converted),\n",
    "    CASE WHEN converted = 0 THEN 'No'\n",
    "    ELSE 'Yes' END AS Conversion,\n",
    "    CASE WHEN test = 0 THEN 'Control'\n",
    "    ELSE 'Test' END AS Test_Condition\n",
    "FROM test_results\n",
    "WHERE time_stamp >= '2015-03-02' AND time_stamp <= '2015-04-01'\n",
    "GROUP BY test, converted;\n",
    "\"\"\"\n",
    "pd.read_sql_query(sql_query, con)"
   ]
  },
  {
   "cell_type": "code",
   "execution_count": 20,
   "metadata": {},
   "outputs": [
    {
     "data": {
      "text/html": [
       "<div>\n",
       "<table border=\"1\" class=\"dataframe\">\n",
       "  <thead>\n",
       "    <tr style=\"text-align: right;\">\n",
       "      <th></th>\n",
       "      <th>id</th>\n",
       "      <th>converted</th>\n",
       "      <th>test</th>\n",
       "      <th>month</th>\n",
       "    </tr>\n",
       "  </thead>\n",
       "  <tbody>\n",
       "    <tr>\n",
       "      <th>0</th>\n",
       "      <td>600150</td>\n",
       "      <td>0</td>\n",
       "      <td>0</td>\n",
       "      <td>Mar</td>\n",
       "    </tr>\n",
       "    <tr>\n",
       "      <th>1</th>\n",
       "      <td>798371</td>\n",
       "      <td>1</td>\n",
       "      <td>1</td>\n",
       "      <td>Mar</td>\n",
       "    </tr>\n",
       "    <tr>\n",
       "      <th>2</th>\n",
       "      <td>447194</td>\n",
       "      <td>0</td>\n",
       "      <td>1</td>\n",
       "      <td>Mar</td>\n",
       "    </tr>\n",
       "    <tr>\n",
       "      <th>3</th>\n",
       "      <td>460593</td>\n",
       "      <td>1</td>\n",
       "      <td>0</td>\n",
       "      <td>Mar</td>\n",
       "    </tr>\n",
       "    <tr>\n",
       "      <th>4</th>\n",
       "      <td>552048</td>\n",
       "      <td>0</td>\n",
       "      <td>1</td>\n",
       "      <td>Mar</td>\n",
       "    </tr>\n",
       "  </tbody>\n",
       "</table>\n",
       "</div>"
      ],
      "text/plain": [
       "       id  converted  test month\n",
       "0  600150          0     0   Mar\n",
       "1  798371          1     1   Mar\n",
       "2  447194          0     1   Mar\n",
       "3  460593          1     0   Mar\n",
       "4  552048          0     1   Mar"
      ]
     },
     "execution_count": 20,
     "metadata": {},
     "output_type": "execute_result"
    }
   ],
   "source": [
    "sql_query = \"\"\"\n",
    "SELECT id, converted, test\n",
    "FROM test_results\n",
    "WHERE time_stamp >= '2015-03-02' AND time_stamp <= '2015-04-01';\n",
    "\"\"\"\n",
    "mar = pd.read_sql_query(sql_query, con)\n",
    "mar['month'] = 'Mar'\n",
    "mar.head()"
   ]
  },
  {
   "cell_type": "markdown",
   "metadata": {},
   "source": [
    "## Data for May"
   ]
  },
  {
   "cell_type": "code",
   "execution_count": 21,
   "metadata": {},
   "outputs": [
    {
     "data": {
      "text/html": [
       "<div>\n",
       "<table border=\"1\" class=\"dataframe\">\n",
       "  <thead>\n",
       "    <tr style=\"text-align: right;\">\n",
       "      <th></th>\n",
       "      <th>count</th>\n",
       "      <th>conversion</th>\n",
       "      <th>test_condition</th>\n",
       "      <th>revenue</th>\n",
       "    </tr>\n",
       "  </thead>\n",
       "  <tbody>\n",
       "    <tr>\n",
       "      <th>0</th>\n",
       "      <td>68807</td>\n",
       "      <td>No</td>\n",
       "      <td>Control</td>\n",
       "      <td>2683473</td>\n",
       "    </tr>\n",
       "    <tr>\n",
       "      <th>1</th>\n",
       "      <td>1428</td>\n",
       "      <td>Yes</td>\n",
       "      <td>Control</td>\n",
       "      <td>55692</td>\n",
       "    </tr>\n",
       "    <tr>\n",
       "      <th>2</th>\n",
       "      <td>38337</td>\n",
       "      <td>No</td>\n",
       "      <td>Test</td>\n",
       "      <td>2261883</td>\n",
       "    </tr>\n",
       "    <tr>\n",
       "      <th>3</th>\n",
       "      <td>592</td>\n",
       "      <td>Yes</td>\n",
       "      <td>Test</td>\n",
       "      <td>34928</td>\n",
       "    </tr>\n",
       "  </tbody>\n",
       "</table>\n",
       "</div>"
      ],
      "text/plain": [
       "   count conversion test_condition  revenue\n",
       "0  68807         No        Control  2683473\n",
       "1   1428        Yes        Control    55692\n",
       "2  38337         No           Test  2261883\n",
       "3    592        Yes           Test    34928"
      ]
     },
     "execution_count": 21,
     "metadata": {},
     "output_type": "execute_result"
    }
   ],
   "source": [
    "sql_query = \"\"\"\n",
    "SELECT count(converted),\n",
    "    CASE WHEN converted = 0 THEN 'No'\n",
    "    ELSE 'Yes' END AS Conversion,\n",
    "    CASE WHEN test = 0 THEN 'Control'\n",
    "    ELSE 'Test' END AS Test_Condition,\n",
    "    CASE WHEN test = 0 THEN (count(converted) * 39)\n",
    "    ELSE (count(converted)*59) END AS Revenue\n",
    "FROM test_results\n",
    "WHERE time_stamp >= '2015-04-01' AND time_stamp <= '2015-05-01'\n",
    "GROUP BY test, converted;\n",
    "\"\"\"\n",
    "pd.read_sql_query(sql_query, con)"
   ]
  },
  {
   "cell_type": "code",
   "execution_count": 22,
   "metadata": {},
   "outputs": [
    {
     "data": {
      "text/html": [
       "<div>\n",
       "<table border=\"1\" class=\"dataframe\">\n",
       "  <thead>\n",
       "    <tr style=\"text-align: right;\">\n",
       "      <th></th>\n",
       "      <th>id</th>\n",
       "      <th>converted</th>\n",
       "      <th>test</th>\n",
       "      <th>month</th>\n",
       "    </tr>\n",
       "  </thead>\n",
       "  <tbody>\n",
       "    <tr>\n",
       "      <th>0</th>\n",
       "      <td>317970</td>\n",
       "      <td>0</td>\n",
       "      <td>0</td>\n",
       "      <td>Apr</td>\n",
       "    </tr>\n",
       "    <tr>\n",
       "      <th>1</th>\n",
       "      <td>169971</td>\n",
       "      <td>0</td>\n",
       "      <td>0</td>\n",
       "      <td>Apr</td>\n",
       "    </tr>\n",
       "    <tr>\n",
       "      <th>2</th>\n",
       "      <td>431639</td>\n",
       "      <td>0</td>\n",
       "      <td>1</td>\n",
       "      <td>Apr</td>\n",
       "    </tr>\n",
       "    <tr>\n",
       "      <th>3</th>\n",
       "      <td>590182</td>\n",
       "      <td>0</td>\n",
       "      <td>0</td>\n",
       "      <td>Apr</td>\n",
       "    </tr>\n",
       "    <tr>\n",
       "      <th>4</th>\n",
       "      <td>425567</td>\n",
       "      <td>0</td>\n",
       "      <td>0</td>\n",
       "      <td>Apr</td>\n",
       "    </tr>\n",
       "  </tbody>\n",
       "</table>\n",
       "</div>"
      ],
      "text/plain": [
       "       id  converted  test month\n",
       "0  317970          0     0   Apr\n",
       "1  169971          0     0   Apr\n",
       "2  431639          0     1   Apr\n",
       "3  590182          0     0   Apr\n",
       "4  425567          0     0   Apr"
      ]
     },
     "execution_count": 22,
     "metadata": {},
     "output_type": "execute_result"
    }
   ],
   "source": [
    "sql_query = \"\"\"\n",
    "SELECT id, converted, test\n",
    "FROM test_results\n",
    "WHERE time_stamp >= '2015-04-01' AND time_stamp <= '2015-05-01';\n",
    "\"\"\"\n",
    "apr = pd.read_sql_query(sql_query, con)\n",
    "apr['month'] = 'Apr'\n",
    "apr.head()"
   ]
  },
  {
   "cell_type": "code",
   "execution_count": 23,
   "metadata": {},
   "outputs": [
    {
     "data": {
      "text/html": [
       "<div>\n",
       "<table border=\"1\" class=\"dataframe\">\n",
       "  <thead>\n",
       "    <tr style=\"text-align: right;\">\n",
       "      <th></th>\n",
       "      <th>count</th>\n",
       "      <th>conversion</th>\n",
       "      <th>test_condition</th>\n",
       "      <th>revenue</th>\n",
       "    </tr>\n",
       "  </thead>\n",
       "  <tbody>\n",
       "    <tr>\n",
       "      <th>0</th>\n",
       "      <td>71329</td>\n",
       "      <td>No</td>\n",
       "      <td>Control</td>\n",
       "      <td>2781831</td>\n",
       "    </tr>\n",
       "    <tr>\n",
       "      <th>1</th>\n",
       "      <td>1430</td>\n",
       "      <td>Yes</td>\n",
       "      <td>Control</td>\n",
       "      <td>55770</td>\n",
       "    </tr>\n",
       "    <tr>\n",
       "      <th>2</th>\n",
       "      <td>40583</td>\n",
       "      <td>No</td>\n",
       "      <td>Test</td>\n",
       "      <td>2394397</td>\n",
       "    </tr>\n",
       "    <tr>\n",
       "      <th>3</th>\n",
       "      <td>637</td>\n",
       "      <td>Yes</td>\n",
       "      <td>Test</td>\n",
       "      <td>37583</td>\n",
       "    </tr>\n",
       "  </tbody>\n",
       "</table>\n",
       "</div>"
      ],
      "text/plain": [
       "   count conversion test_condition  revenue\n",
       "0  71329         No        Control  2781831\n",
       "1   1430        Yes        Control    55770\n",
       "2  40583         No           Test  2394397\n",
       "3    637        Yes           Test    37583"
      ]
     },
     "execution_count": 23,
     "metadata": {},
     "output_type": "execute_result"
    }
   ],
   "source": [
    "sql_query = \"\"\"\n",
    "SELECT count(converted),\n",
    "    CASE WHEN converted = 0 THEN 'No'\n",
    "    ELSE 'Yes' END AS Conversion,\n",
    "    CASE WHEN test = 0 THEN 'Control'\n",
    "    ELSE 'Test' END AS Test_Condition,\n",
    "    CASE WHEN test = 0 THEN (count(converted) * 39)\n",
    "    ELSE (count(converted)*59) END AS Revenue\n",
    "FROM test_results\n",
    "WHERE time_stamp >= '2015-05-01'\n",
    "GROUP BY test, converted;\n",
    "\"\"\"\n",
    "pd.read_sql_query(sql_query, con)"
   ]
  },
  {
   "cell_type": "code",
   "execution_count": 24,
   "metadata": {},
   "outputs": [
    {
     "data": {
      "text/html": [
       "<div>\n",
       "<table border=\"1\" class=\"dataframe\">\n",
       "  <thead>\n",
       "    <tr style=\"text-align: right;\">\n",
       "      <th></th>\n",
       "      <th>id</th>\n",
       "      <th>converted</th>\n",
       "      <th>test</th>\n",
       "      <th>month</th>\n",
       "    </tr>\n",
       "  </thead>\n",
       "  <tbody>\n",
       "    <tr>\n",
       "      <th>0</th>\n",
       "      <td>604839</td>\n",
       "      <td>0</td>\n",
       "      <td>0</td>\n",
       "      <td>May</td>\n",
       "    </tr>\n",
       "    <tr>\n",
       "      <th>1</th>\n",
       "      <td>624057</td>\n",
       "      <td>0</td>\n",
       "      <td>0</td>\n",
       "      <td>May</td>\n",
       "    </tr>\n",
       "    <tr>\n",
       "      <th>2</th>\n",
       "      <td>685636</td>\n",
       "      <td>0</td>\n",
       "      <td>1</td>\n",
       "      <td>May</td>\n",
       "    </tr>\n",
       "    <tr>\n",
       "      <th>3</th>\n",
       "      <td>820854</td>\n",
       "      <td>0</td>\n",
       "      <td>0</td>\n",
       "      <td>May</td>\n",
       "    </tr>\n",
       "    <tr>\n",
       "      <th>4</th>\n",
       "      <td>606479</td>\n",
       "      <td>0</td>\n",
       "      <td>0</td>\n",
       "      <td>May</td>\n",
       "    </tr>\n",
       "  </tbody>\n",
       "</table>\n",
       "</div>"
      ],
      "text/plain": [
       "       id  converted  test month\n",
       "0  604839          0     0   May\n",
       "1  624057          0     0   May\n",
       "2  685636          0     1   May\n",
       "3  820854          0     0   May\n",
       "4  606479          0     0   May"
      ]
     },
     "execution_count": 24,
     "metadata": {},
     "output_type": "execute_result"
    }
   ],
   "source": [
    "sql_query = \"\"\"\n",
    "SELECT id, converted, test\n",
    "FROM test_results\n",
    "WHERE time_stamp >= '2015-05-01';\n",
    "\"\"\"\n",
    "may = pd.read_sql_query(sql_query, con)\n",
    "may['month'] = 'May'\n",
    "may.head()"
   ]
  },
  {
   "cell_type": "markdown",
   "metadata": {},
   "source": [
    "**Simple eyeballing of the numbers might indicate that each month really didn't differ in terms of traffic...*\n",
    "\n",
    "But how can we be so sure? Maybe we need to validate this with some hypothesis testing.\n",
    "\n",
    "My approach would be the following: did the proportion of conversion rates or non-conversion rates differ by month? Can we do one of the following confirm that, ANOVA, Chi-Sq test, t-test?"
   ]
  },
  {
   "cell_type": "markdown",
   "metadata": {},
   "source": [
    "**I created data frames for march, april and may, then combined them together to do 2-Way, Between-Subjects ANOVA.**"
   ]
  },
  {
   "cell_type": "code",
   "execution_count": 25,
   "metadata": {},
   "outputs": [],
   "source": [
    "frames = [mar, apr, may]"
   ]
  },
  {
   "cell_type": "code",
   "execution_count": 26,
   "metadata": {},
   "outputs": [],
   "source": [
    "dates = pd.concat(frames)"
   ]
  },
  {
   "cell_type": "code",
   "execution_count": 27,
   "metadata": {},
   "outputs": [
    {
     "data": {
      "text/html": [
       "<div>\n",
       "<table border=\"1\" class=\"dataframe\">\n",
       "  <thead>\n",
       "    <tr style=\"text-align: right;\">\n",
       "      <th></th>\n",
       "      <th>id</th>\n",
       "      <th>converted</th>\n",
       "      <th>test</th>\n",
       "      <th>month</th>\n",
       "    </tr>\n",
       "  </thead>\n",
       "  <tbody>\n",
       "    <tr>\n",
       "      <th>0</th>\n",
       "      <td>600150</td>\n",
       "      <td>0</td>\n",
       "      <td>0</td>\n",
       "      <td>Mar</td>\n",
       "    </tr>\n",
       "    <tr>\n",
       "      <th>1</th>\n",
       "      <td>798371</td>\n",
       "      <td>1</td>\n",
       "      <td>1</td>\n",
       "      <td>Mar</td>\n",
       "    </tr>\n",
       "    <tr>\n",
       "      <th>2</th>\n",
       "      <td>447194</td>\n",
       "      <td>0</td>\n",
       "      <td>1</td>\n",
       "      <td>Mar</td>\n",
       "    </tr>\n",
       "    <tr>\n",
       "      <th>3</th>\n",
       "      <td>460593</td>\n",
       "      <td>1</td>\n",
       "      <td>0</td>\n",
       "      <td>Mar</td>\n",
       "    </tr>\n",
       "    <tr>\n",
       "      <th>4</th>\n",
       "      <td>552048</td>\n",
       "      <td>0</td>\n",
       "      <td>1</td>\n",
       "      <td>Mar</td>\n",
       "    </tr>\n",
       "  </tbody>\n",
       "</table>\n",
       "</div>"
      ],
      "text/plain": [
       "       id  converted  test month\n",
       "0  600150          0     0   Mar\n",
       "1  798371          1     1   Mar\n",
       "2  447194          0     1   Mar\n",
       "3  460593          1     0   Mar\n",
       "4  552048          0     1   Mar"
      ]
     },
     "execution_count": 27,
     "metadata": {},
     "output_type": "execute_result"
    }
   ],
   "source": [
    "dates.head()"
   ]
  },
  {
   "cell_type": "markdown",
   "metadata": {},
   "source": [
    "**I ran the binned data in an ANOVA (in R, because I'm lazy)**, but also using `statsmodels`. The data are mildly imbalanced, but on first glance, the dates don't seem to matter.\n",
    "\n",
    "Since dates (month) doesn't matter **perhaps a single month is a appropriate for this type of test.** This would save time and money, since we don't necessarily need to run the test for an entire 3-4 months. That's a long time!"
   ]
  },
  {
   "cell_type": "code",
   "execution_count": 28,
   "metadata": {},
   "outputs": [
    {
     "name": "stdout",
     "output_type": "stream",
     "text": [
      "               sum_sq        df          F        PR(>F)\n",
      "C(test)      1.385170       1.0  76.973225  1.741027e-18\n",
      "C(month)     0.007111       2.0   0.197585  8.207105e-01\n",
      "Residual  5854.234270  325317.0        NaN           NaN\n"
     ]
    }
   ],
   "source": [
    "cw_lm=ols('converted ~ C(test) + C(month)', data=dates).fit() #Specify C for Categorical\n",
    "\n",
    "print(sm.stats.anova_lm(cw_lm, typ=2))"
   ]
  },
  {
   "cell_type": "raw",
   "metadata": {},
   "source": [
    "Analysis of Variance Table\n",
    "\n",
    "Response: converted\n",
    "               Df Sum Sq Mean Sq F value Pr(>F)    \n",
    "test            1    1.4 1.38595 77.0167 <2e-16 ***\n",
    "month           2    0.0 0.00356  0.1976 0.8207    \n",
    "test:month      2    0.0 0.01557  0.8654 0.4209    \n",
    "Residuals  325315 5854.2 0.01800                   \n",
    "---\n",
    "Signif. codes:  0 ‘***’ 0.001 ‘**’ 0.01 ‘*’ 0.05 ‘.’ 0.1 ‘ ’ 1"
   ]
  },
  {
   "cell_type": "markdown",
   "metadata": {},
   "source": [
    "**I also wanted to explore if there was an overall difference in region**, irrespective of test condition or conversion."
   ]
  },
  {
   "cell_type": "code",
   "execution_count": 29,
   "metadata": {},
   "outputs": [],
   "source": [
    "sql_query = \"\"\"\n",
    "SELECT u.city, count(u.city) as counts,\n",
    "    CASE WHEN t.converted = 0 THEN 'No'\n",
    "    ELSE 'Yes' END AS Conversion,\n",
    "    CASE WHEN t.test = 0 THEN 'Control'\n",
    "    ELSE 'Test' END AS Test_Condition\n",
    "\n",
    "FROM test_results t INNER JOIN user_table u\n",
    "ON t.id = u.id\n",
    "WHERE test = 0 AND converted = 1\n",
    "GROUP BY u.city,t.converted, t.test\n",
    "ORDER BY counts DESC\n",
    "LIMIT 50\n",
    "\"\"\"\n",
    "user_data = pd.read_sql_query(sql_query, con)"
   ]
  },
  {
   "cell_type": "code",
   "execution_count": 30,
   "metadata": {},
   "outputs": [
    {
     "data": {
      "text/html": [
       "<div>\n",
       "<table border=\"1\" class=\"dataframe\">\n",
       "  <thead>\n",
       "    <tr style=\"text-align: right;\">\n",
       "      <th></th>\n",
       "      <th>count</th>\n",
       "      <th>region</th>\n",
       "    </tr>\n",
       "  </thead>\n",
       "  <tbody>\n",
       "    <tr>\n",
       "      <th>0</th>\n",
       "      <td>585</td>\n",
       "      <td>Midwest/Atlantic/NE</td>\n",
       "    </tr>\n",
       "    <tr>\n",
       "      <th>1</th>\n",
       "      <td>451</td>\n",
       "      <td>West/SW</td>\n",
       "    </tr>\n",
       "    <tr>\n",
       "      <th>2</th>\n",
       "      <td>274</td>\n",
       "      <td>South/SE</td>\n",
       "    </tr>\n",
       "    <tr>\n",
       "      <th>3</th>\n",
       "      <td>220</td>\n",
       "      <td>West/NW</td>\n",
       "    </tr>\n",
       "  </tbody>\n",
       "</table>\n",
       "</div>"
      ],
      "text/plain": [
       "   count               region\n",
       "0    585  Midwest/Atlantic/NE\n",
       "1    451              West/SW\n",
       "2    274             South/SE\n",
       "3    220              West/NW"
      ]
     },
     "execution_count": 30,
     "metadata": {},
     "output_type": "execute_result"
    }
   ],
   "source": [
    "sql_query = \"\"\"\n",
    "SELECT count(t.converted) AS Count,\n",
    "    CASE WHEN u.lat >= 37 AND u.long >= -94 THEN 'Midwest/Atlantic/NE'\n",
    "        WHEN u.lat <= 37 and u.long >= -94 THEN 'South/SE'\n",
    "        WHEN u.lat <=37 and u.long <= -84 THEN 'West/SW'\n",
    "        ELSE 'West/NW' END AS Region\n",
    "FROM test_results t INNER JOIN user_table u\n",
    "ON t.id = u.id\n",
    "WHERE test = 1 AND converted = 1\n",
    "GROUP BY Region\n",
    "ORDER BY count DESC\n",
    "\"\"\"\n",
    "pd.read_sql_query(sql_query, con)"
   ]
  },
  {
   "cell_type": "code",
   "execution_count": 31,
   "metadata": {},
   "outputs": [
    {
     "data": {
      "text/html": [
       "<div>\n",
       "<table border=\"1\" class=\"dataframe\">\n",
       "  <thead>\n",
       "    <tr style=\"text-align: right;\">\n",
       "      <th></th>\n",
       "      <th>count</th>\n",
       "      <th>region</th>\n",
       "    </tr>\n",
       "  </thead>\n",
       "  <tbody>\n",
       "    <tr>\n",
       "      <th>0</th>\n",
       "      <td>1307</td>\n",
       "      <td>Midwest/Atlantic/NE</td>\n",
       "    </tr>\n",
       "    <tr>\n",
       "      <th>1</th>\n",
       "      <td>1040</td>\n",
       "      <td>West/SW</td>\n",
       "    </tr>\n",
       "    <tr>\n",
       "      <th>2</th>\n",
       "      <td>607</td>\n",
       "      <td>South/SE</td>\n",
       "    </tr>\n",
       "    <tr>\n",
       "      <th>3</th>\n",
       "      <td>535</td>\n",
       "      <td>West/NW</td>\n",
       "    </tr>\n",
       "  </tbody>\n",
       "</table>\n",
       "</div>"
      ],
      "text/plain": [
       "   count               region\n",
       "0   1307  Midwest/Atlantic/NE\n",
       "1   1040              West/SW\n",
       "2    607             South/SE\n",
       "3    535              West/NW"
      ]
     },
     "execution_count": 31,
     "metadata": {},
     "output_type": "execute_result"
    }
   ],
   "source": [
    "sql_query = \"\"\"\n",
    "SELECT count(t.converted) AS Count,\n",
    "    CASE WHEN u.lat >= 37 AND u.long >= -94 THEN 'Midwest/Atlantic/NE'\n",
    "        WHEN u.lat <= 37 and u.long >= -94 THEN 'South/SE'\n",
    "        WHEN u.lat <=37 and u.long <= -84 THEN 'West/SW'\n",
    "        ELSE 'West/NW' END AS Region\n",
    "FROM test_results t INNER JOIN user_table u\n",
    "ON t.id = u.id\n",
    "WHERE test = 0 AND converted = 1\n",
    "GROUP BY Region\n",
    "ORDER BY count DESC\n",
    "\"\"\"\n",
    "region = pd.read_sql_query(sql_query, con)\n",
    "region.head()"
   ]
  },
  {
   "cell_type": "code",
   "execution_count": 32,
   "metadata": {},
   "outputs": [
    {
     "data": {
      "image/png": "[encoded data removed]",
      "text/plain": [
       "<matplotlib.figure.Figure at 0x7f14a6664f50>"
      ]
     },
     "metadata": {},
     "output_type": "display_data"
    }
   ],
   "source": [
    "y_pos = np.arange(len(region['region']))\n",
    "fig = plt.figure(figsize=(6,4), dpi=800)\n",
    "fig.suptitle('Conversion Counts by Region', fontsize=18)\n",
    "plt.bar(y_pos, region['count'], alpha=0.5)\n",
    "plt.xticks(y_pos, region['region'], rotation = 45)\n",
    "plt.ylabel('Count')\n",
    "plt.xlabel('Regions')\n",
    "\n",
    " \n",
    "plt.show()\n"
   ]
  },
  {
   "cell_type": "code",
   "execution_count": 33,
   "metadata": {},
   "outputs": [],
   "source": [
    "sql_query = \"\"\"\n",
    "SELECT u.city, count(u.city) as counts,\n",
    "    CASE WHEN t.converted = 0 THEN 'No'\n",
    "    ELSE 'Yes' END AS Conversion,\n",
    "    CASE WHEN t.test = 0 THEN 'Control'\n",
    "    ELSE 'Test' END AS Test_Condition\n",
    "\n",
    "FROM test_results t INNER JOIN user_table u\n",
    "ON t.id = u.id\n",
    "WHERE test = 1 AND converted = 1\n",
    "GROUP BY u.city,t.converted, t.test\n",
    "ORDER BY counts DESC\n",
    "LIMIT 50\n",
    "\"\"\"\n",
    "user_data2 = pd.read_sql_query(sql_query, con)"
   ]
  },
  {
   "cell_type": "code",
   "execution_count": 34,
   "metadata": {},
   "outputs": [
    {
     "data": {
      "text/html": [
       "<div>\n",
       "<table border=\"1\" class=\"dataframe\">\n",
       "  <thead>\n",
       "    <tr style=\"text-align: right;\">\n",
       "      <th></th>\n",
       "      <th>city</th>\n",
       "      <th>counts</th>\n",
       "      <th>conversion</th>\n",
       "      <th>test_condition</th>\n",
       "    </tr>\n",
       "  </thead>\n",
       "  <tbody>\n",
       "    <tr>\n",
       "      <th>0</th>\n",
       "      <td>New York</td>\n",
       "      <td>307</td>\n",
       "      <td>Yes</td>\n",
       "      <td>Control</td>\n",
       "    </tr>\n",
       "    <tr>\n",
       "      <th>1</th>\n",
       "      <td>Houston</td>\n",
       "      <td>83</td>\n",
       "      <td>Yes</td>\n",
       "      <td>Control</td>\n",
       "    </tr>\n",
       "    <tr>\n",
       "      <th>2</th>\n",
       "      <td>Chicago</td>\n",
       "      <td>66</td>\n",
       "      <td>Yes</td>\n",
       "      <td>Control</td>\n",
       "    </tr>\n",
       "    <tr>\n",
       "      <th>3</th>\n",
       "      <td>San Antonio</td>\n",
       "      <td>59</td>\n",
       "      <td>Yes</td>\n",
       "      <td>Control</td>\n",
       "    </tr>\n",
       "    <tr>\n",
       "      <th>4</th>\n",
       "      <td>Los Angeles</td>\n",
       "      <td>56</td>\n",
       "      <td>Yes</td>\n",
       "      <td>Control</td>\n",
       "    </tr>\n",
       "  </tbody>\n",
       "</table>\n",
       "</div>"
      ],
      "text/plain": [
       "          city  counts conversion test_condition\n",
       "0     New York     307        Yes        Control\n",
       "1      Houston      83        Yes        Control\n",
       "2      Chicago      66        Yes        Control\n",
       "3  San Antonio      59        Yes        Control\n",
       "4  Los Angeles      56        Yes        Control"
      ]
     },
     "execution_count": 34,
     "metadata": {},
     "output_type": "execute_result"
    }
   ],
   "source": [
    "user_data.head()"
   ]
  },
  {
   "cell_type": "code",
   "execution_count": 35,
   "metadata": {},
   "outputs": [
    {
     "data": {
      "image/png": "[encoded data removed]",
      "text/plain": [
       "<matplotlib.figure.Figure at 0x7f14a6526410>"
      ]
     },
     "metadata": {},
     "output_type": "display_data"
    }
   ],
   "source": [
    "y_pos = np.arange(len(user_data['city']))\n",
    "fig = plt.figure(figsize=(10,5), dpi=800)\n",
    "fig.suptitle('Positive Conversions By City -- Control Condition', fontsize=18)\n",
    "plt.bar(y_pos, user_data['counts'], alpha=0.5)\n",
    "plt.xticks(y_pos, user_data['city'], rotation = 'vertical')\n",
    "plt.ylabel('Count')\n",
    "plt.xlabel('Cities')\n",
    "\n",
    " \n",
    "plt.show()"
   ]
  },
  {
   "cell_type": "raw",
   "metadata": {},
   "source": [
    "fig = plt.figure(figsize=(10,5), dpi=800)\n",
    "y_pos = np.arange(len(user_data['city']))\n",
    "plt.bar(y_pos, user_data2['counts'], alpha=0.5)\n",
    "fig.suptitle('Positive Conversions By City -- Test Condition', fontsize=18)\n",
    "plt.xticks(y_pos, user_data2['city'], rotation = 'vertical')\n",
    "plt.ylabel('Count')\n",
    "plt.xlabel('Cities')\n",
    "\n",
    " \n",
    "plt.show()"
   ]
  },
  {
   "cell_type": "markdown",
   "metadata": {},
   "source": [
    "**Generally speaking, we see conversion rates mirror gross regional variation.**\n",
    "\n",
    "To get back at the question at hand:\n",
    "\n",
    "1) There are so few people converted (i.e. buying) the product in general, it might not be prudent to up the price. If there was a greater uptick in conversion (on a large factor), then I might consider changing the product.\n",
    "\n",
    "2) Holistic view of behavior: As mentioned above, not a whole lot of individuals converted. What I think was interesting is that there are more people on mobile than there are web, so maybe that would be an interesting audience to target. To further support this, mobile users seem to be a bit more likely to convert over to purchasing the product. More finely examining the type of ads and searches (then optimizing them) could be a way to increase conversion rates.\n",
    "\n",
    "3) My analysis shows that the test seems to be running too long. A month OR shorter would probably prudent.\n"
   ]
  }
 ],
 "metadata": {
  "anaconda-cloud": {},
  "kernelspec": {
   "display_name": "Python [conda root]",
   "language": "python",
   "name": "conda-root-py"
  },
  "language_info": {
   "codemirror_mode": {
    "name": "ipython",
    "version": 2
   },
   "file_extension": ".py",
   "mimetype": "text/x-python",
   "name": "python",
   "nbconvert_exporter": "python",
   "pygments_lexer": "ipython2",
   "version": "2.7.12"
  }
 },
 "nbformat": 4,
 "nbformat_minor": 1
}
